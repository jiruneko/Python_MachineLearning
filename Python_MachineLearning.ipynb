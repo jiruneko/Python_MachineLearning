{
  "nbformat": 4,
  "nbformat_minor": 0,
  "metadata": {
    "colab": {
      "provenance": [],
      "authorship_tag": "ABX9TyM3a1QunxzXgRDAkz33hebn",
      "include_colab_link": true
    },
    "kernelspec": {
      "name": "python3",
      "display_name": "Python 3"
    },
    "language_info": {
      "name": "python"
    }
  },
  "cells": [
    {
      "cell_type": "markdown",
      "metadata": {
        "id": "view-in-github",
        "colab_type": "text"
      },
      "source": [
        "<a href=\"https://colab.research.google.com/github/jiruneko/Python_MachineLearning/blob/main/Python_MachineLearning.ipynb\" target=\"_parent\"><img src=\"https://colab.research.google.com/assets/colab-badge.svg\" alt=\"Open In Colab\"/></a>"
      ]
    },
    {
      "cell_type": "code",
      "execution_count": null,
      "metadata": {
        "colab": {
          "base_uri": "https://localhost:8080/",
          "height": 407
        },
        "id": "gItuGnAMRfU1",
        "outputId": "379b5c64-0110-431f-fa9c-7f3b245d5b70"
      },
      "outputs": [
        {
          "output_type": "display_data",
          "data": {
            "text/plain": [
              "<Figure size 640x480 with 50 Axes>"
            ],
            "image/png": "[encoded data removed]"
          },
          "metadata": {}
        }
      ],
      "source": [
        "import sklearn.datasets\n",
        "import matplotlib.pyplot as plt\n",
        "\n",
        "digits = sklearn.datasets.load_digits()\n",
        "\n",
        "for i in range(50):\n",
        "  plt.subplot(5, 10, i + 1)\n",
        "  plt.axis(\"off\")\n",
        "  plt.title(digits.target[i])\n",
        "  plt.imshow(digits.images[i], cmap=\"Greys\")\n",
        "\n",
        "plt.show()"
      ]
    },
    {
      "cell_type": "code",
      "source": [
        "import sklearn.datasets\n",
        "import sklearn.svm\n",
        "import PIL.Image\n",
        "import numpy\n",
        "\n",
        "# 画像ファイルを数値リストに変換する\n",
        "def imageToData(filename):\n",
        "  # 画像を8*8のグレースケールに変換\n",
        "  grayImage = PIL.Image.open(filename).convert(\"L\")\n",
        "  grayImage = grayImage.resize((8, 8), PIL.Image.Resampling.LANCZOS)\n",
        "  # 数値リスト\n",
        "  numImage = numpy.asarray(grayImage, dtype = float)\n",
        "  numImage = 16 - numpy.floor(17 * numImage / 256)\n",
        "  numImage = numImage.flatten()\n",
        "\n",
        "  return numImage\n",
        "\n",
        "# 数字を予測する\n",
        "def predictDigits(data):\n",
        "  # 学習用データを読み込む\n",
        "  digits = sklearn.datasets.load_digits()\n",
        "  clf = sklearn.svm.SVC(gamma = 0.001)\n",
        "  clf.fit(digits.data, digits.target)\n",
        "  # 予測結果を表示\n",
        "  n = clf.predict([data])\n",
        "  print(\"予測=\", n)\n",
        "\n",
        "# 画像ファイルを数値リストに変換する\n",
        "data = imageToData(\"2.png\")\n",
        "predictDigits(data)"
      ],
      "metadata": {
        "colab": {
          "base_uri": "https://localhost:8080/"
        },
        "id": "8eB75QWDVps5",
        "outputId": "d0daaab3-74c8-4afc-f3aa-812c29550219"
      },
      "execution_count": null,
      "outputs": [
        {
          "output_type": "stream",
          "name": "stdout",
          "text": [
            "予測= [2]\n"
          ]
        }
      ]
    },
    {
      "cell_type": "code",
      "source": [
        "def imageToData(filename):\n",
        "  grayImage = PIL.Image.open(filename).convert(\"L\")\n",
        "  grayImage = grayImage.resize((8, 8), PIL.Image.Resampling.LANCZOS)\n",
        "  # 数値リストに変換\n",
        "  numImage = numpy.asarray(grayImage,dtype = float)\n",
        "  numImage = 16 - numpy.floor(17 * numImage / 256)\n",
        "  numImage = numImage.flatten()\n",
        "\n",
        "  return numImage"
      ],
      "metadata": {
        "id": "5EuFBrVvUHUB"
      },
      "execution_count": null,
      "outputs": []
    },
    {
      "cell_type": "code",
      "source": [
        "def predictDigits(data):\n",
        "  digits = sklearn.datasets.load_digits()\n",
        "  clf = sklearn.svm.SVC(gamma = 0.001)\n",
        "  clf.fit(digits.data, digits.target)\n",
        "  n = clf.predict([data])\n",
        "  print(\"予測=\", n)"
      ],
      "metadata": {
        "id": "Hbe4853kcTzz"
      },
      "execution_count": null,
      "outputs": []
    },
    {
      "cell_type": "code",
      "source": [
        "from google.colab import files\n",
        "from PIL import Image, ImageOps\n",
        "import numpy as np\n",
        "import matplotlib.pyplot as plt\n",
        "\n",
        "# ユーザーに画像ファイルをアップロードしてもらう\n",
        "uploaded = files.upload()\n",
        "\n",
        "# 最初のファイル名を取得\n",
        "filename = list(uploaded.keys())[0]\n",
        "\n",
        "# 画像を読み込んで表示\n",
        "grayImage = Image.open(filename).convert(\"L\")\n",
        "grayImage = grayImage.resize((8, 8), Image.Resampling.LANCZOS)\n",
        "\n",
        "# 表示用に拡大して表示\n",
        "displayImage = grayImage.resize((300, 300), resample=0)\n",
        "plt.imshow(displayImage, cmap=\"gray\")\n",
        "plt.title(\"Resized Image (for display)\")\n",
        "plt.axis(\"off\")\n",
        "plt.show()\n",
        "\n",
        "# データに変換\n",
        "inverted = ImageOps.invert(grayImage)\n",
        "numImage = np.asarray(inverted, dtype=float)\n",
        "numImage = 16 - np.floor(17 * numImage / 256)\n",
        "flattened = numImage.flatten()\n",
        "\n",
        "print(\"変換された画像データ:\", flattened)"
      ],
      "metadata": {
        "colab": {
          "base_uri": "https://localhost:8080/",
          "height": 583
        },
        "id": "P1EsVsUtc4cw",
        "outputId": "a06f848c-f7a7-46b6-b9cc-e05e1699cc30"
      },
      "execution_count": null,
      "outputs": [
        {
          "output_type": "display_data",
          "data": {
            "text/plain": [
              "<IPython.core.display.HTML object>"
            ],
            "text/html": [
              "\n",
              "     <input type=\"file\" id=\"files-36087d52-7fee-4540-930e-810e953a621d\" name=\"files[]\" multiple disabled\n",
              "        style=\"border:none\" />\n",
              "     <output id=\"result-36087d52-7fee-4540-930e-810e953a621d\">\n",
              "      Upload widget is only available when the cell has been executed in the\n",
              "      current browser session. Please rerun this cell to enable.\n",
              "      </output>\n",
              "      <script>// Copyright 2017 Google LLC\n",
              "//\n",
              "// Licensed under the Apache License, Version 2.0 (the \"License\");\n",
              "// you may not use this file except in compliance with the License.\n",
              "// You may obtain a copy of the License at\n",
              "//\n",
              "//      http://www.apache.org/licenses/LICENSE-2.0\n",
              "//\n",
              "// Unless required by applicable law or agreed to in writing, software\n",
              "// distributed under the License is distributed on an \"AS IS\" BASIS,\n",
              "// WITHOUT WARRANTIES OR CONDITIONS OF ANY KIND, either express or implied.\n",
              "// See the License for the specific language governing permissions and\n",
              "// limitations under the License.\n",
              "\n",
              "/**\n",
              " * @fileoverview Helpers for google.colab Python module.\n",
              " */\n",
              "(function(scope) {\n",
              "function span(text, styleAttributes = {}) {\n",
              "  const element = document.createElement('span');\n",
              "  element.textContent = text;\n",
              "  for (const key of Object.keys(styleAttributes)) {\n",
              "    element.style[key] = styleAttributes[key];\n",
              "  }\n",
              "  return element;\n",
              "}\n",
              "\n",
              "// Max number of bytes which will be uploaded at a time.\n",
              "const MAX_PAYLOAD_SIZE = 100 * 1024;\n",
              "\n",
              "function _uploadFiles(inputId, outputId) {\n",
              "  const steps = uploadFilesStep(inputId, outputId);\n",
              "  const outputElement = document.getElementById(outputId);\n",
              "  // Cache steps on the outputElement to make it available for the next call\n",
              "  // to uploadFilesContinue from Python.\n",
              "  outputElement.steps = steps;\n",
              "\n",
              "  return _uploadFilesContinue(outputId);\n",
              "}\n",
              "\n",
              "// This is roughly an async generator (not supported in the browser yet),\n",
              "// where there are multiple asynchronous steps and the Python side is going\n",
              "// to poll for completion of each step.\n",
              "// This uses a Promise to block the python side on completion of each step,\n",
              "// then passes the result of the previous step as the input to the next step.\n",
              "function _uploadFilesContinue(outputId) {\n",
              "  const outputElement = document.getElementById(outputId);\n",
              "  const steps = outputElement.steps;\n",
              "\n",
              "  const next = steps.next(outputElement.lastPromiseValue);\n",
              "  return Promise.resolve(next.value.promise).then((value) => {\n",
              "    // Cache the last promise value to make it available to the next\n",
              "    // step of the generator.\n",
              "    outputElement.lastPromiseValue = value;\n",
              "    return next.value.response;\n",
              "  });\n",
              "}\n",
              "\n",
              "/**\n",
              " * Generator function which is called between each async step of the upload\n",
              " * process.\n",
              " * @param {string} inputId Element ID of the input file picker element.\n",
              " * @param {string} outputId Element ID of the output display.\n",
              " * @return {!Iterable<!Object>} Iterable of next steps.\n",
              " */\n",
              "function* uploadFilesStep(inputId, outputId) {\n",
              "  const inputElement = document.getElementById(inputId);\n",
              "  inputElement.disabled = false;\n",
              "\n",
              "  const outputElement = document.getElementById(outputId);\n",
              "  outputElement.innerHTML = '';\n",
              "\n",
              "  const pickedPromise = new Promise((resolve) => {\n",
              "    inputElement.addEventListener('change', (e) => {\n",
              "      resolve(e.target.files);\n",
              "    });\n",
              "  });\n",
              "\n",
              "  const cancel = document.createElement('button');\n",
              "  inputElement.parentElement.appendChild(cancel);\n",
              "  cancel.textContent = 'Cancel upload';\n",
              "  const cancelPromise = new Promise((resolve) => {\n",
              "    cancel.onclick = () => {\n",
              "      resolve(null);\n",
              "    };\n",
              "  });\n",
              "\n",
              "  // Wait for the user to pick the files.\n",
              "  const files = yield {\n",
              "    promise: Promise.race([pickedPromise, cancelPromise]),\n",
              "    response: {\n",
              "      action: 'starting',\n",
              "    }\n",
              "  };\n",
              "\n",
              "  cancel.remove();\n",
              "\n",
              "  // Disable the input element since further picks are not allowed.\n",
              "  inputElement.disabled = true;\n",
              "\n",
              "  if (!files) {\n",
              "    return {\n",
              "      response: {\n",
              "        action: 'complete',\n",
              "      }\n",
              "    };\n",
              "  }\n",
              "\n",
              "  for (const file of files) {\n",
              "    const li = document.createElement('li');\n",
              "    li.append(span(file.name, {fontWeight: 'bold'}));\n",
              "    li.append(span(\n",
              "        `(${file.type || 'n/a'}) - ${file.size} bytes, ` +\n",
              "        `last modified: ${\n",
              "            file.lastModifiedDate ? file.lastModifiedDate.toLocaleDateString() :\n",
              "                                    'n/a'} - `));\n",
              "    const percent = span('0% done');\n",
              "    li.appendChild(percent);\n",
              "\n",
              "    outputElement.appendChild(li);\n",
              "\n",
              "    const fileDataPromise = new Promise((resolve) => {\n",
              "      const reader = new FileReader();\n",
              "      reader.onload = (e) => {\n",
              "        resolve(e.target.result);\n",
              "      };\n",
              "      reader.readAsArrayBuffer(file);\n",
              "    });\n",
              "    // Wait for the data to be ready.\n",
              "    let fileData = yield {\n",
              "      promise: fileDataPromise,\n",
              "      response: {\n",
              "        action: 'continue',\n",
              "      }\n",
              "    };\n",
              "\n",
              "    // Use a chunked sending to avoid message size limits. See b/62115660.\n",
              "    let position = 0;\n",
              "    do {\n",
              "      const length = Math.min(fileData.byteLength - position, MAX_PAYLOAD_SIZE);\n",
              "      const chunk = new Uint8Array(fileData, position, length);\n",
              "      position += length;\n",
              "\n",
              "      const base64 = btoa(String.fromCharCode.apply(null, chunk));\n",
              "      yield {\n",
              "        response: {\n",
              "          action: 'append',\n",
              "          file: file.name,\n",
              "          data: base64,\n",
              "        },\n",
              "      };\n",
              "\n",
              "      let percentDone = fileData.byteLength === 0 ?\n",
              "          100 :\n",
              "          Math.round((position / fileData.byteLength) * 100);\n",
              "      percent.textContent = `${percentDone}% done`;\n",
              "\n",
              "    } while (position < fileData.byteLength);\n",
              "  }\n",
              "\n",
              "  // All done.\n",
              "  yield {\n",
              "    response: {\n",
              "      action: 'complete',\n",
              "    }\n",
              "  };\n",
              "}\n",
              "\n",
              "scope.google = scope.google || {};\n",
              "scope.google.colab = scope.google.colab || {};\n",
              "scope.google.colab._files = {\n",
              "  _uploadFiles,\n",
              "  _uploadFilesContinue,\n",
              "};\n",
              "})(self);\n",
              "</script> "
            ]
          },
          "metadata": {}
        },
        {
          "output_type": "stream",
          "name": "stdout",
          "text": [
            "Saving 2.png to 2 (1).png\n"
          ]
        },
        {
          "output_type": "display_data",
          "data": {
            "text/plain": [
              "<Figure size 640x480 with 1 Axes>"
            ],
            "image/png": "[encoded data removed]"
          },
          "metadata": {}
        },
        {
          "output_type": "stream",
          "name": "stdout",
          "text": [
            "変換された画像データ: [16. 16. 16. 16. 16. 16. 16. 16. 16. 16. 13.  5.  5. 13. 16. 16. 16. 16.\n",
            "  7. 11. 12.  5. 16. 16. 16. 16. 16. 16. 11.  6. 16. 16. 16. 16. 16. 14.\n",
            "  3. 15. 16. 16. 16. 16. 16.  3. 10. 16. 16. 16. 16. 16. 10.  3.  5.  8.\n",
            " 16. 16. 16. 16. 16. 16. 16. 16. 16. 16.]\n"
          ]
        }
      ]
    },
    {
      "cell_type": "code",
      "source": [
        "import tkinter as tk\n",
        "import tkinter.filedialog as fd\n",
        "import PIL.Image\n",
        "import PIL.ImageTk\n",
        "\n",
        "import sklearn.datasets\n",
        "import sklearn.svm\n",
        "import numpy\n",
        "\n",
        "def imageToData(filename):\n",
        "  grayImage = PIL.Image.open(filename).convert(\"L\")\n",
        "  grayImage = grayImage.resize((8,8), PIL.Image.Resampling.LANCZOS)\n",
        "\n",
        "  dispImage = PIL.ImageTk.PhotoImage(grayImage.resize((300,300),resample=0))\n",
        "  imageLabel.configure(image = dispImage)\n",
        "  imageLabel.image = dispImage\n",
        "\n",
        "  numImage = numpy.asarray(grayImage, dtype = float)\n",
        "  numImage = 16 - numpy.floor(17 * numImage / 256)\n",
        "  numImage = numImage.flatten()\n",
        "  return numImage"
      ],
      "metadata": {
        "id": "I5qf2eQthgPE"
      },
      "execution_count": null,
      "outputs": []
    },
    {
      "cell_type": "code",
      "source": [],
      "metadata": {
        "id": "nVy28RUFmTgO"
      },
      "execution_count": null,
      "outputs": []
    }
  ]
}